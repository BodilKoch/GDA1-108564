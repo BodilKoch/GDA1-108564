{
 "cells": [
  {
   "cell_type": "markdown",
   "id": "86ee0da1-9cff-49ec-91aa-86eb03461ffd",
   "metadata": {},
   "source": [
    "# **Introduction to Panda DataFrames**"
   ]
  },
  {
   "cell_type": "markdown",
   "id": "3310df56-0378-47b1-b910-0d2b76f4d784",
   "metadata": {},
   "source": [
    "![](Pandas.webp)"
   ]
  },
  {
   "cell_type": "markdown",
   "id": "c6881751-f4bc-48e8-bb00-e5ec38601744",
   "metadata": {},
   "source": [
    "<a href=\"https://pandas.pydata.org/\">Panda</a> is a powerful and versatile library for Python, designed primarily for data manipulation and analysis. To quote from Nvidia’s website:"
   ]
  },
  {
   "cell_type": "markdown",
   "id": "54a81062-be48-456c-8a94-1faec89057f8",
   "metadata": {},
   "source": [
    "> Pandas is the most popular software library for data manipulation and data analysis for the Python programming language. (www.nvidia.com)"
   ]
  },
  {
   "cell_type": "markdown",
   "id": "b8f1a317-9629-4e8a-a141-ce900c47f732",
   "metadata": {},
   "source": [
    "Here is an (incomplete) list of some key functionalities provided by Pandas:\n",
    "\n",
    "1. **Data Structures**\n",
    "    - *Series:* One-dimensional labeled array capable of holding data of any type.\n",
    "    - *DataFrame:* Two-dimensional, size-mutable, potentially heterogeneous tabular data structure with labeled axes (rows and columns).\n",
    "2. **Data Manipulation**\n",
    "    - *Data Selection and Indexing:* Access data via labels, indices, or boolean masks (`.loc`, `.iloc`, `.at`, `.iat`).\n",
    "    - *Filtering:* Filter data based on conditions or queries.\n",
    "    - *Sorting:* Sort data by labels or values.\n",
    "    - *Handling Missing Data:* Identify, fill, or drop missing values (`isnull`, `dropna`, `fillna`).\n",
    "3. **Data Cleaning**\n",
    "    - *Dropping Duplicates:* Remove duplicate rows or columns.\n",
    "    - *Replacing Values:* Replace specific values in the DataFrame.\n",
    "    - *String Operations:* Perform operations on string data, like splitting, replacing, and pattern matching (`str.split`, `str.replace`).\n",
    "4. **Aggregation and Grouping**\n",
    "    - *Group By:* Split data into groups based on criteria, and perform aggregate functions like sum, mean, or custom operations.\n",
    "    - *Pivot Tables:* Create a pivot table to summarize data.\n",
    "5. **Merging and Joining**\n",
    "    - *Concatenation:* Combine multiple DataFrames along a particular axis.\n",
    "    - *Merging:* Merge DataFrames similar to SQL joins (`merge`, `join`).\n",
    "6. **Time Series**\n",
    "    - *Datetime Conversion:* Convert date and time data to a datetime object.\n",
    "    - *Resampling:* Aggregate data over a time period.\n",
    "    - *Time-based Indexing:* Access and manipulate time-series data easily with date indexing.\n",
    "7. **Statistical and Mathematical Operations**\n",
    "    - *Descriptive Statistics:* Compute summary statistics for DataFrame columns.\n",
    "    - *Correlation/ Covariance:* Calculate the pairwise correlation or covariance between columns.\n",
    "    - *Cumulative Operations:* Perform cumulative operations on data.\n",
    "\n",
    "At the heart of Pandas lies the DataFrame, a two-dimensional labeled data structure with columns of potentially different types, similar to a table in a relational database or an Excel spreadsheet. Understanding DataFrames is crucial for anyone looking to perform data analysis in Python.\n",
    "\n",
    "## What is a DataFrame?\n",
    "*****************************************************************************************************************************************************\n",
    "\n",
    "A DataFrame is a table-like structure in Pandas that consists of rows and columns, where each column can hold different data types (e.g., integers, floats, strings). You can think of it as a collection of Series objects, where each Series is a single column of data. DataFrames provide a highly efficient way to store and manipulate large datasets in memory.\n",
    "\n",
    "## Creating a DataFrame\n",
    "*****************************************************************************************************************************************************\n",
    "There are several ways to create a DataFrame in Pandas, but some of the most common methods are:\n",
    "\n",
    "1. From a Dictionary\n",
    "2. From a List of Lists\n",
    "3. From a CSV File\n",
    "Below we take a look at the first two approaches.\n",
    "\n",
    "### Creating DataFrame from a Dictionary\n",
    "The following code will create a DataFrame with three columns: ‘Name’, ‘Age’, and ‘City’, and three rows corresponding to the data provided in the dictionary. To be able to use Pandas, we first have to import it. This is done using the command `import pandas as pd`, introducing the alias pd for Pandas."
   ]
  },
  {
   "cell_type": "code",
   "execution_count": 1,
   "id": "9e597b62-9b28-41e4-b355-589e05244021",
   "metadata": {},
   "outputs": [
    {
     "data": {
      "text/html": [
       "<div>\n",
       "<style scoped>\n",
       "    .dataframe tbody tr th:only-of-type {\n",
       "        vertical-align: middle;\n",
       "    }\n",
       "\n",
       "    .dataframe tbody tr th {\n",
       "        vertical-align: top;\n",
       "    }\n",
       "\n",
       "    .dataframe thead th {\n",
       "        text-align: right;\n",
       "    }\n",
       "</style>\n",
       "<table border=\"1\" class=\"dataframe\">\n",
       "  <thead>\n",
       "    <tr style=\"text-align: right;\">\n",
       "      <th></th>\n",
       "      <th>Name</th>\n",
       "      <th>Age</th>\n",
       "      <th>City</th>\n",
       "    </tr>\n",
       "  </thead>\n",
       "  <tbody>\n",
       "    <tr>\n",
       "      <th>0</th>\n",
       "      <td>Alice</td>\n",
       "      <td>25</td>\n",
       "      <td>New York</td>\n",
       "    </tr>\n",
       "    <tr>\n",
       "      <th>1</th>\n",
       "      <td>Bob</td>\n",
       "      <td>30</td>\n",
       "      <td>Los Angeles</td>\n",
       "    </tr>\n",
       "    <tr>\n",
       "      <th>2</th>\n",
       "      <td>Charlie</td>\n",
       "      <td>35</td>\n",
       "      <td>Chicago</td>\n",
       "    </tr>\n",
       "  </tbody>\n",
       "</table>\n",
       "</div>"
      ],
      "text/plain": [
       "      Name  Age         City\n",
       "0    Alice   25     New York\n",
       "1      Bob   30  Los Angeles\n",
       "2  Charlie   35      Chicago"
      ]
     },
     "execution_count": 1,
     "metadata": {},
     "output_type": "execute_result"
    }
   ],
   "source": [
    "import pandas as pd\n",
    "\n",
    "data = {\n",
    "    'Name': ['Alice', 'Bob', 'Charlie'],\n",
    "    'Age': [25, 30, 35],\n",
    "    'City': ['New York', 'Los Angeles', 'Chicago']\n",
    "}\n",
    "\n",
    "df = pd.DataFrame(data)\n",
    "df"
   ]
  },
  {
   "cell_type": "markdown",
   "id": "6be8882b-ec2d-4e95-bf9a-c9df537e24d6",
   "metadata": {},
   "source": [
    "### Creating DataFrame from List of Lists\n",
    "Here, we create the DataFrame from a list of lists where each inner list represents the values for one row. Note that We explicitly specify the column names when creating the DataFrame."
   ]
  },
  {
   "cell_type": "code",
   "execution_count": 2,
   "id": "86021376-25ac-4862-9596-38be374e1c42",
   "metadata": {},
   "outputs": [
    {
     "data": {
      "text/html": [
       "<div>\n",
       "<style scoped>\n",
       "    .dataframe tbody tr th:only-of-type {\n",
       "        vertical-align: middle;\n",
       "    }\n",
       "\n",
       "    .dataframe tbody tr th {\n",
       "        vertical-align: top;\n",
       "    }\n",
       "\n",
       "    .dataframe thead th {\n",
       "        text-align: right;\n",
       "    }\n",
       "</style>\n",
       "<table border=\"1\" class=\"dataframe\">\n",
       "  <thead>\n",
       "    <tr style=\"text-align: right;\">\n",
       "      <th></th>\n",
       "      <th>Name</th>\n",
       "      <th>Age</th>\n",
       "      <th>City</th>\n",
       "    </tr>\n",
       "  </thead>\n",
       "  <tbody>\n",
       "    <tr>\n",
       "      <th>0</th>\n",
       "      <td>Alice</td>\n",
       "      <td>25</td>\n",
       "      <td>New York</td>\n",
       "    </tr>\n",
       "    <tr>\n",
       "      <th>1</th>\n",
       "      <td>Bob</td>\n",
       "      <td>30</td>\n",
       "      <td>Los Angeles</td>\n",
       "    </tr>\n",
       "    <tr>\n",
       "      <th>2</th>\n",
       "      <td>Charlie</td>\n",
       "      <td>35</td>\n",
       "      <td>Chicago</td>\n",
       "    </tr>\n",
       "  </tbody>\n",
       "</table>\n",
       "</div>"
      ],
      "text/plain": [
       "      Name  Age         City\n",
       "0    Alice   25     New York\n",
       "1      Bob   30  Los Angeles\n",
       "2  Charlie   35      Chicago"
      ]
     },
     "execution_count": 2,
     "metadata": {},
     "output_type": "execute_result"
    }
   ],
   "source": [
    "data = [\n",
    "    ['Alice', 25, 'New York'],\n",
    "    ['Bob', 30, 'Los Angeles'],\n",
    "    ['Charlie', 35, 'Chicago']\n",
    "]\n",
    "\n",
    "df = pd.DataFrame(data, columns=['Name', 'Age', 'City'])\n",
    "df"
   ]
  },
  {
   "cell_type": "markdown",
   "id": "10b45412-cb64-4cbf-8eaf-03068668ff49",
   "metadata": {},
   "source": [
    "## Accessing Data in a DataFrame\n",
    "*****************************************************************************************************************************************************\n",
    "Once you have a DataFrame, you can access its data in various ways:\n",
    "- By column name:"
   ]
  },
  {
   "cell_type": "code",
   "execution_count": 3,
   "id": "937a475b-bd08-4fbd-8025-d2bfa6daec5a",
   "metadata": {},
   "outputs": [
    {
     "data": {
      "text/plain": [
       "0      Alice\n",
       "1        Bob\n",
       "2    Charlie\n",
       "Name: Name, dtype: object"
      ]
     },
     "execution_count": 3,
     "metadata": {},
     "output_type": "execute_result"
    }
   ],
   "source": [
    "df['Name']"
   ]
  },
  {
   "cell_type": "markdown",
   "id": "ff1e6f4d-401f-42c1-8aee-26a14e381c78",
   "metadata": {},
   "source": [
    "- By row index:"
   ]
  },
  {
   "cell_type": "code",
   "execution_count": 4,
   "id": "ec466db7-18e9-4c00-8363-cba2bac28130",
   "metadata": {},
   "outputs": [
    {
     "data": {
      "text/plain": [
       "Name       Alice\n",
       "Age           25\n",
       "City    New York\n",
       "Name: 0, dtype: object"
      ]
     },
     "execution_count": 4,
     "metadata": {},
     "output_type": "execute_result"
    }
   ],
   "source": [
    "df.iloc[0]"
   ]
  },
  {
   "cell_type": "markdown",
   "id": "b25aa8ca-6a63-496d-be47-1776a198e1a3",
   "metadata": {},
   "source": [
    "- Using both:"
   ]
  },
  {
   "cell_type": "code",
   "execution_count": 6,
   "id": "a862c40c-75e8-40c6-9473-f5bd2e679d9f",
   "metadata": {},
   "outputs": [
    {
     "data": {
      "text/plain": [
       "'Alice'"
      ]
     },
     "execution_count": 6,
     "metadata": {},
     "output_type": "execute_result"
    }
   ],
   "source": [
    "df.loc[0, 'Name']"
   ]
  },
  {
   "cell_type": "markdown",
   "id": "0feb6637-6831-47dc-9b6f-bcb87144e8fb",
   "metadata": {},
   "source": [
    "## Conclusion\n",
    "*****************************************************************************************************************************************************\n",
    "Pandas DataFrames are a fundamental tool in the data analysis toolkit for Python users. They provide a powerful way to organize, manipulate, and analyze data efficiently. Whether you’re working with small datasets or handling large-scale data, mastering DataFrames will allow you to tackle a wide range of data-related tasks with ease.\n",
    "\n",
    "In this introduction, we’ve covered the basics of what a DataFrame is, how to create one, and how to access columns, rows, and individual cells in a DataFrame. As you continue to explore Pandas, you’ll discover many more features and capabilities that make DataFrames an indispensable part of Python programming. The table below contains a number of resources related to Pandas.\n",
    "*****************************************************************************************************************************************************\n",
    "| **Ressource** | **Description** |\n",
    "| ------------- | --------------- |\n",
    "| <a href=\"https://pandas.pydata.org/\">Pandas Documentation</a> | Official documentation for Pandas. |\n",
    "| <a href=\"https://www.oreilly.com/library/view/python-for-data/9781491957653/\">Python for Data Analysis</a> | \tComprehensive guide by Pandas creator, Wes McKinney. |\n",
    "| <a href=\"https://realpython.com/pandas-dataframe/\">Real Python: The Pandas DataFrame</a> | Tutorials on using Pandas for data analysis. |\n",
    "| <a href=\"https://www.kaggle.com/learn/pandas\">Kaggle Pandas</a> | Free introductory course on Pandas by Kaggle. |\n",
    "| <a href=\"https://www.datacamp.com/tutorial/pandas-tutorial-dataframe-python\">DataCamp Pandas Tutorial</a> | \tDetailed tutorials and exercises on Pandas. |"
   ]
  }
 ],
 "metadata": {
  "kernelspec": {
   "display_name": "Python 3 (ipykernel)",
   "language": "python",
   "name": "python3"
  },
  "language_info": {
   "codemirror_mode": {
    "name": "ipython",
    "version": 3
   },
   "file_extension": ".py",
   "mimetype": "text/x-python",
   "name": "python",
   "nbconvert_exporter": "python",
   "pygments_lexer": "ipython3",
   "version": "3.11.10"
  }
 },
 "nbformat": 4,
 "nbformat_minor": 5
}
