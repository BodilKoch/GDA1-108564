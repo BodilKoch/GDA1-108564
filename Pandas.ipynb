{
 "cells": [
  {
   "cell_type": "markdown",
   "id": "86ee0da1-9cff-49ec-91aa-86eb03461ffd",
   "metadata": {},
   "source": [
    "# **Introduction to Panda DataFrames**"
   ]
  },
  {
   "cell_type": "markdown",
   "id": "3310df56-0378-47b1-b910-0d2b76f4d784",
   "metadata": {},
   "source": [
    "![](Pandas.webp)"
   ]
  },
  {
   "cell_type": "markdown",
   "id": "c6881751-f4bc-48e8-bb00-e5ec38601744",
   "metadata": {},
   "source": [
    "<a href=\"https://pandas.pydata.org/\">Panda</a> is a powerful and versatile library for Python, designed primarily for data manipulation and analysis. To quote from Nvidia’s website:"
   ]
  },
  {
   "cell_type": "markdown",
   "id": "54a81062-be48-456c-8a94-1faec89057f8",
   "metadata": {},
   "source": [
    "> Pandas is the most popular software library for data manipulation and data analysis for the Python programming language. (www.nvidia.com)"
   ]
  },
  {
   "cell_type": "markdown",
   "id": "b8f1a317-9629-4e8a-a141-ce900c47f732",
   "metadata": {},
   "source": [
    "Here is an (incomplete) list of some key functionalities provided by Pandas:\n",
    "\n",
    "1. **Data Structures**\n",
    "    - *Series:* One-dimensional labeled array capable of holding data of any type.\n",
    "    - *DataFrame:* Two-dimensional, size-mutable, potentially heterogeneous tabular data structure with labeled axes (rows and columns).\n",
    "2. **Data Manipulation**\n",
    "    - *Data Selection and Indexing:* Access data via labels, indices, or boolean masks (`.loc`, `.iloc`, `.at`, `.iat`).\n",
    "    - *Filtering:* Filter data based on conditions or queries.\n",
    "    - *Sorting:* Sort data by labels or values.\n",
    "    - *Handling Missing Data:* Identify, fill, or drop missing values (`isnull`, `dropna`, `fillna`).\n",
    "3. **Data Cleaning**\n",
    "    - *Dropping Duplicates:* Remove duplicate rows or columns.\n",
    "    - *Replacing Values:* Replace specific values in the DataFrame.\n",
    "    - *String Operations:* Perform operations on string data, like splitting, replacing, and pattern matching (`str.split`, `str.replace`).\n",
    "4. **Aggregation and Grouping**\n",
    "    - *Group By:* Split data into groups based on criteria, and perform aggregate functions like sum, mean, or custom operations.\n",
    "    - *Pivot Tables:* Create a pivot table to summarize data.\n",
    "5. **Merging and Joining**\n",
    "    - *Concatenation:* Combine multiple DataFrames along a particular axis.\n",
    "    - *Merging:* Merge DataFrames similar to SQL joins (`merge`, `join`).\n",
    "6. **Time Series**\n",
    "    - *Datetime Conversion:* Convert date and time data to a datetime object.\n",
    "    - *Resampling:* Aggregate data over a time period.\n",
    "    - *Time-based Indexing:* Access and manipulate time-series data easily with date indexing.\n",
    "7. **Statistical and Mathematical Operations**\n",
    "    - *Descriptive Statistics:* Compute summary statistics for DataFrame columns.\n",
    "    - *Correlation/ Covariance:* Calculate the pairwise correlation or covariance between columns.\n",
    "    - *Cumulative Operations:* Perform cumulative operations on data.\n",
    "\n",
    "At the heart of Pandas lies the DataFrame, a two-dimensional labeled data structure with columns of potentially different types, similar to a table in a relational database or an Excel spreadsheet. Understanding DataFrames is crucial for anyone looking to perform data analysis in Python.\n",
    "\n",
    "## What is a DataFrame?\n",
    "*****************************************************************************************************************************************************\n",
    "\n",
    "A DataFrame is a table-like structure in Pandas that consists of rows and columns, where each column can hold different data types (e.g., integers, floats, strings). You can think of it as a collection of Series objects, where each Series is a single column of data. DataFrames provide a highly efficient way to store and manipulate large datasets in memory.\n",
    "\n",
    "## Creating a DataFrame\n",
    "*****************************************************************************************************************************************************\n",
    "There are several ways to create a DataFrame in Pandas, but some of the most common methods are:\n",
    "\n",
    "1. From a Dictionary\n",
    "2. From a List of Lists\n",
    "3. From a CSV File\n",
    "Below we take a look at the first two approaches.\n",
    "\n",
    "### Creating DataFrame from a Dictionary\n",
    "The following code will create a DataFrame with three columns: ‘Name’, ‘Age’, and ‘City’, and three rows corresponding to the data provided in the dictionary. To be able to use Pandas, we first have to import it. This is done using the command `import pandas as pd`, introducing the alias pd for Pandas."
   ]
  },
  {
   "cell_type": "code",
   "execution_count": null,
   "id": "9e597b62-9b28-41e4-b355-589e05244021",
   "metadata": {},
   "outputs": [],
   "source": []
  }
 ],
 "metadata": {
  "kernelspec": {
   "display_name": "Python 3 (ipykernel)",
   "language": "python",
   "name": "python3"
  },
  "language_info": {
   "codemirror_mode": {
    "name": "ipython",
    "version": 3
   },
   "file_extension": ".py",
   "mimetype": "text/x-python",
   "name": "python",
   "nbconvert_exporter": "python",
   "pygments_lexer": "ipython3",
   "version": "3.11.10"
  }
 },
 "nbformat": 4,
 "nbformat_minor": 5
}
